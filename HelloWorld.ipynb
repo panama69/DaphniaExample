{
 "cells": [
  {
   "cell_type": "code",
   "execution_count": 3,
   "id": "cac331e4-a12d-4387-8642-cbfbea14cd04",
   "metadata": {},
   "outputs": [
    {
     "name": "stdout",
     "output_type": "stream",
     "text": [
      "hello world\n",
      "GitHub is great\n"
     ]
    }
   ],
   "source": [
    "print('hello world')\n",
    "print('GitHub is great')"
   ]
  },
  {
   "cell_type": "code",
   "execution_count": 4,
   "id": "e958790d-ce01-4a63-8baf-ceba50163554",
   "metadata": {},
   "outputs": [
    {
     "name": "stdout",
     "output_type": "stream",
     "text": [
      "in progress of adding additional great things\n",
      "and fix some bugs along the way\n"
     ]
    }
   ],
   "source": [
    "print('in progress of adding additional great things')\n",
    "print('and fix some bugs along the way')"
   ]
  },
  {
   "cell_type": "code",
   "execution_count": null,
   "id": "b5741786-6026-4e2b-975c-554d05407d21",
   "metadata": {},
   "outputs": [],
   "source": []
  }
 ],
 "metadata": {
  "kernelspec": {
   "display_name": "Python 3 (ipykernel)",
   "language": "python",
   "name": "python3"
  },
  "language_info": {
   "codemirror_mode": {
    "name": "ipython",
    "version": 3
   },
   "file_extension": ".py",
   "mimetype": "text/x-python",
   "name": "python",
   "nbconvert_exporter": "python",
   "pygments_lexer": "ipython3",
   "version": "3.13.1"
  }
 },
 "nbformat": 4,
 "nbformat_minor": 5
}
