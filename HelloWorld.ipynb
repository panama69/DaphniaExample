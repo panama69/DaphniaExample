{
 "cells": [
  {
   "cell_type": "code",
   "execution_count": 9,
   "id": "cac331e4-a12d-4387-8642-cbfbea14cd04",
   "metadata": {},
   "outputs": [
    {
     "ename": "ModuleNotFoundError",
     "evalue": "No module named 'jproperties'",
     "output_type": "error",
     "traceback": [
      "\u001b[0;31m---------------------------------------------------------------------------\u001b[0m",
      "\u001b[0;31mModuleNotFoundError\u001b[0m                       Traceback (most recent call last)",
      "Cell \u001b[0;32mIn[9], line 1\u001b[0m\n\u001b[0;32m----> 1\u001b[0m \u001b[38;5;28;01mfrom\u001b[39;00m \u001b[38;5;21;01mjproperties\u001b[39;00m \u001b[38;5;28;01mimport\u001b[39;00m Properties\n\u001b[1;32m      2\u001b[0m \u001b[38;5;66;03m#import Properties\u001b[39;00m\n\u001b[1;32m      4\u001b[0m configs \u001b[38;5;241m=\u001b[39m Properties()\n",
      "\u001b[0;31mModuleNotFoundError\u001b[0m: No module named 'jproperties'"
     ]
    }
   ],
   "source": [
    "from jproperties import Properties\n",
    "#import Properties\n",
    "\n",
    "configs = Properties()\n",
    "\n",
    "with open('app-config.properties', 'rb') as config_file:\n",
    "    configs.load(config_file)\n",
    "\n",
    "# Access a property value\n",
    "db_user = configs.get(\"DB_User\")\n",
    "print(db_user)\n",
    "\n",
    "print('hello world')\n",
    "print('GitHub is great')"
   ]
  },
  {
   "cell_type": "code",
   "execution_count": 7,
   "id": "e958790d-ce01-4a63-8baf-ceba50163554",
   "metadata": {},
   "outputs": [
    {
     "name": "stdout",
     "output_type": "stream",
     "text": [
      "in progress of adding additional great things\n",
      "and fix some bugs along the way\n"
     ]
    }
   ],
   "source": [
    "print('in progress of adding additional great things')\n",
    "print('and fix some bugs along the way')"
   ]
  }
 ],
 "metadata": {
  "kernelspec": {
   "display_name": "Python 3 (ipykernel)",
   "language": "python",
   "name": "python3"
  },
  "language_info": {
   "codemirror_mode": {
    "name": "ipython",
    "version": 3
   },
   "file_extension": ".py",
   "mimetype": "text/x-python",
   "name": "python",
   "nbconvert_exporter": "python",
   "pygments_lexer": "ipython3",
   "version": "3.13.1"
  }
 },
 "nbformat": 4,
 "nbformat_minor": 5
}
